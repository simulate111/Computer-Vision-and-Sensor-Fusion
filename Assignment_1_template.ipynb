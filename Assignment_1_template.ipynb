{
  "cells": [
    {
      "cell_type": "markdown",
      "metadata": {
        "id": "view-in-github",
        "colab_type": "text"
      },
      "source": [
        "<a href=\"https://colab.research.google.com/github/simulate111/Computer-Vision-and-Sensor-Fusion/blob/main/Assignment_1_template.ipynb\" target=\"_parent\"><img src=\"https://colab.research.google.com/assets/colab-badge.svg\" alt=\"Open In Colab\"/></a>"
      ]
    },
    {
      "cell_type": "code",
      "execution_count": 1,
      "metadata": {
        "id": "XseuZYr-lCia"
      },
      "outputs": [],
      "source": [
        "import tensorflow as tf\n",
        "import random\n",
        "import os\n",
        "import numpy as np\n",
        "from sklearn.metrics import roc_curve, auc, precision_recall_curve, average_precision_score, confusion_matrix, ConfusionMatrixDisplay\n",
        "import pandas as pd\n",
        "import matplotlib.pyplot as plt\n",
        "from sklearn.model_selection import train_test_split\n",
        "from tensorflow.keras import layers, models"
      ]
    },
    {
      "cell_type": "code",
      "source": [
        "!pip install kaggle"
      ],
      "metadata": {
        "colab": {
          "base_uri": "https://localhost:8080/"
        },
        "id": "GJlc86Y_nALN",
        "outputId": "c6be0654-a5a4-46dc-8f75-f28655d1ed51"
      },
      "execution_count": 2,
      "outputs": [
        {
          "output_type": "stream",
          "name": "stdout",
          "text": [
            "Requirement already satisfied: kaggle in /usr/local/lib/python3.11/dist-packages (1.6.17)\n",
            "Requirement already satisfied: six>=1.10 in /usr/local/lib/python3.11/dist-packages (from kaggle) (1.17.0)\n",
            "Requirement already satisfied: certifi>=2023.7.22 in /usr/local/lib/python3.11/dist-packages (from kaggle) (2024.12.14)\n",
            "Requirement already satisfied: python-dateutil in /usr/local/lib/python3.11/dist-packages (from kaggle) (2.9.0.post0)\n",
            "Requirement already satisfied: requests in /usr/local/lib/python3.11/dist-packages (from kaggle) (2.32.3)\n",
            "Requirement already satisfied: tqdm in /usr/local/lib/python3.11/dist-packages (from kaggle) (4.67.1)\n",
            "Requirement already satisfied: python-slugify in /usr/local/lib/python3.11/dist-packages (from kaggle) (8.0.4)\n",
            "Requirement already satisfied: urllib3 in /usr/local/lib/python3.11/dist-packages (from kaggle) (2.3.0)\n",
            "Requirement already satisfied: bleach in /usr/local/lib/python3.11/dist-packages (from kaggle) (6.2.0)\n",
            "Requirement already satisfied: webencodings in /usr/local/lib/python3.11/dist-packages (from bleach->kaggle) (0.5.1)\n",
            "Requirement already satisfied: text-unidecode>=1.3 in /usr/local/lib/python3.11/dist-packages (from python-slugify->kaggle) (1.3)\n",
            "Requirement already satisfied: charset-normalizer<4,>=2 in /usr/local/lib/python3.11/dist-packages (from requests->kaggle) (3.4.1)\n",
            "Requirement already satisfied: idna<4,>=2.5 in /usr/local/lib/python3.11/dist-packages (from requests->kaggle) (3.10)\n"
          ]
        }
      ]
    },
    {
      "cell_type": "code",
      "source": [
        "from google.colab import files\n",
        "files.upload()  # Upload kaggle.json file"
      ],
      "metadata": {
        "colab": {
          "base_uri": "https://localhost:8080/",
          "height": 38
        },
        "id": "N1E1-uLulf9j",
        "outputId": "23de91d8-14cd-49b0-f42f-da734fc595cb"
      },
      "execution_count": null,
      "outputs": [
        {
          "output_type": "display_data",
          "data": {
            "text/plain": [
              "<IPython.core.display.HTML object>"
            ],
            "text/html": [
              "\n",
              "     <input type=\"file\" id=\"files-3c906fc1-8db1-4241-b7ae-fe07e74cefae\" name=\"files[]\" multiple disabled\n",
              "        style=\"border:none\" />\n",
              "     <output id=\"result-3c906fc1-8db1-4241-b7ae-fe07e74cefae\">\n",
              "      Upload widget is only available when the cell has been executed in the\n",
              "      current browser session. Please rerun this cell to enable.\n",
              "      </output>\n",
              "      <script>// Copyright 2017 Google LLC\n",
              "//\n",
              "// Licensed under the Apache License, Version 2.0 (the \"License\");\n",
              "// you may not use this file except in compliance with the License.\n",
              "// You may obtain a copy of the License at\n",
              "//\n",
              "//      http://www.apache.org/licenses/LICENSE-2.0\n",
              "//\n",
              "// Unless required by applicable law or agreed to in writing, software\n",
              "// distributed under the License is distributed on an \"AS IS\" BASIS,\n",
              "// WITHOUT WARRANTIES OR CONDITIONS OF ANY KIND, either express or implied.\n",
              "// See the License for the specific language governing permissions and\n",
              "// limitations under the License.\n",
              "\n",
              "/**\n",
              " * @fileoverview Helpers for google.colab Python module.\n",
              " */\n",
              "(function(scope) {\n",
              "function span(text, styleAttributes = {}) {\n",
              "  const element = document.createElement('span');\n",
              "  element.textContent = text;\n",
              "  for (const key of Object.keys(styleAttributes)) {\n",
              "    element.style[key] = styleAttributes[key];\n",
              "  }\n",
              "  return element;\n",
              "}\n",
              "\n",
              "// Max number of bytes which will be uploaded at a time.\n",
              "const MAX_PAYLOAD_SIZE = 100 * 1024;\n",
              "\n",
              "function _uploadFiles(inputId, outputId) {\n",
              "  const steps = uploadFilesStep(inputId, outputId);\n",
              "  const outputElement = document.getElementById(outputId);\n",
              "  // Cache steps on the outputElement to make it available for the next call\n",
              "  // to uploadFilesContinue from Python.\n",
              "  outputElement.steps = steps;\n",
              "\n",
              "  return _uploadFilesContinue(outputId);\n",
              "}\n",
              "\n",
              "// This is roughly an async generator (not supported in the browser yet),\n",
              "// where there are multiple asynchronous steps and the Python side is going\n",
              "// to poll for completion of each step.\n",
              "// This uses a Promise to block the python side on completion of each step,\n",
              "// then passes the result of the previous step as the input to the next step.\n",
              "function _uploadFilesContinue(outputId) {\n",
              "  const outputElement = document.getElementById(outputId);\n",
              "  const steps = outputElement.steps;\n",
              "\n",
              "  const next = steps.next(outputElement.lastPromiseValue);\n",
              "  return Promise.resolve(next.value.promise).then((value) => {\n",
              "    // Cache the last promise value to make it available to the next\n",
              "    // step of the generator.\n",
              "    outputElement.lastPromiseValue = value;\n",
              "    return next.value.response;\n",
              "  });\n",
              "}\n",
              "\n",
              "/**\n",
              " * Generator function which is called between each async step of the upload\n",
              " * process.\n",
              " * @param {string} inputId Element ID of the input file picker element.\n",
              " * @param {string} outputId Element ID of the output display.\n",
              " * @return {!Iterable<!Object>} Iterable of next steps.\n",
              " */\n",
              "function* uploadFilesStep(inputId, outputId) {\n",
              "  const inputElement = document.getElementById(inputId);\n",
              "  inputElement.disabled = false;\n",
              "\n",
              "  const outputElement = document.getElementById(outputId);\n",
              "  outputElement.innerHTML = '';\n",
              "\n",
              "  const pickedPromise = new Promise((resolve) => {\n",
              "    inputElement.addEventListener('change', (e) => {\n",
              "      resolve(e.target.files);\n",
              "    });\n",
              "  });\n",
              "\n",
              "  const cancel = document.createElement('button');\n",
              "  inputElement.parentElement.appendChild(cancel);\n",
              "  cancel.textContent = 'Cancel upload';\n",
              "  const cancelPromise = new Promise((resolve) => {\n",
              "    cancel.onclick = () => {\n",
              "      resolve(null);\n",
              "    };\n",
              "  });\n",
              "\n",
              "  // Wait for the user to pick the files.\n",
              "  const files = yield {\n",
              "    promise: Promise.race([pickedPromise, cancelPromise]),\n",
              "    response: {\n",
              "      action: 'starting',\n",
              "    }\n",
              "  };\n",
              "\n",
              "  cancel.remove();\n",
              "\n",
              "  // Disable the input element since further picks are not allowed.\n",
              "  inputElement.disabled = true;\n",
              "\n",
              "  if (!files) {\n",
              "    return {\n",
              "      response: {\n",
              "        action: 'complete',\n",
              "      }\n",
              "    };\n",
              "  }\n",
              "\n",
              "  for (const file of files) {\n",
              "    const li = document.createElement('li');\n",
              "    li.append(span(file.name, {fontWeight: 'bold'}));\n",
              "    li.append(span(\n",
              "        `(${file.type || 'n/a'}) - ${file.size} bytes, ` +\n",
              "        `last modified: ${\n",
              "            file.lastModifiedDate ? file.lastModifiedDate.toLocaleDateString() :\n",
              "                                    'n/a'} - `));\n",
              "    const percent = span('0% done');\n",
              "    li.appendChild(percent);\n",
              "\n",
              "    outputElement.appendChild(li);\n",
              "\n",
              "    const fileDataPromise = new Promise((resolve) => {\n",
              "      const reader = new FileReader();\n",
              "      reader.onload = (e) => {\n",
              "        resolve(e.target.result);\n",
              "      };\n",
              "      reader.readAsArrayBuffer(file);\n",
              "    });\n",
              "    // Wait for the data to be ready.\n",
              "    let fileData = yield {\n",
              "      promise: fileDataPromise,\n",
              "      response: {\n",
              "        action: 'continue',\n",
              "      }\n",
              "    };\n",
              "\n",
              "    // Use a chunked sending to avoid message size limits. See b/62115660.\n",
              "    let position = 0;\n",
              "    do {\n",
              "      const length = Math.min(fileData.byteLength - position, MAX_PAYLOAD_SIZE);\n",
              "      const chunk = new Uint8Array(fileData, position, length);\n",
              "      position += length;\n",
              "\n",
              "      const base64 = btoa(String.fromCharCode.apply(null, chunk));\n",
              "      yield {\n",
              "        response: {\n",
              "          action: 'append',\n",
              "          file: file.name,\n",
              "          data: base64,\n",
              "        },\n",
              "      };\n",
              "\n",
              "      let percentDone = fileData.byteLength === 0 ?\n",
              "          100 :\n",
              "          Math.round((position / fileData.byteLength) * 100);\n",
              "      percent.textContent = `${percentDone}% done`;\n",
              "\n",
              "    } while (position < fileData.byteLength);\n",
              "  }\n",
              "\n",
              "  // All done.\n",
              "  yield {\n",
              "    response: {\n",
              "      action: 'complete',\n",
              "    }\n",
              "  };\n",
              "}\n",
              "\n",
              "scope.google = scope.google || {};\n",
              "scope.google.colab = scope.google.colab || {};\n",
              "scope.google.colab._files = {\n",
              "  _uploadFiles,\n",
              "  _uploadFilesContinue,\n",
              "};\n",
              "})(self);\n",
              "</script> "
            ]
          },
          "metadata": {}
        }
      ]
    },
    {
      "cell_type": "code",
      "source": [
        "import os\n",
        "os.makedirs('/root/.kaggle', exist_ok=True)\n",
        "os.rename('kaggle.json', '/root/.kaggle/kaggle.json')\n",
        "os.chmod('/root/.kaggle/kaggle.json', 600)"
      ],
      "metadata": {
        "id": "DAvR2_q_l0mx"
      },
      "execution_count": null,
      "outputs": []
    },
    {
      "cell_type": "code",
      "source": [
        "!kaggle datasets download -d samuelcortinhas/muffin-vs-chihuahua-image-classification"
      ],
      "metadata": {
        "id": "aLIhFBlCmDJP"
      },
      "execution_count": null,
      "outputs": []
    },
    {
      "cell_type": "code",
      "source": [
        "!unzip muffin-vs-chihuahua-image-classification.zip -d /content/"
      ],
      "metadata": {
        "id": "zY5KrJ9XmKZz"
      },
      "execution_count": null,
      "outputs": []
    },
    {
      "cell_type": "code",
      "source": [
        "os.listdir('/content')"
      ],
      "metadata": {
        "id": "GuAvm4MdnK0l"
      },
      "execution_count": null,
      "outputs": []
    },
    {
      "cell_type": "markdown",
      "metadata": {
        "id": "eypuYoyKlCid"
      },
      "source": [
        "### Path system"
      ]
    },
    {
      "cell_type": "code",
      "execution_count": null,
      "metadata": {
        "id": "4puaF1wblCie"
      },
      "outputs": [],
      "source": [
        "# you need the current working directory NB: works both windows and linux\n",
        "current_working_directory = os.getcwd()\n",
        "current_working_directory = os.path.dirname(current_working_directory)\n",
        "\n",
        "# get the directory where I want to download the dataset\n",
        "path_of_download = os.path.join(*['..', current_working_directory, 'Datasets', 'cookies_vs_chihuahua'])\n",
        "print(f\"[DIR] The directory of the current dataset is {path_of_download}\")"
      ]
    },
    {
      "cell_type": "markdown",
      "metadata": {
        "id": "PKLVfyIClCif"
      },
      "source": [
        "### Dataset function"
      ]
    },
    {
      "cell_type": "code",
      "execution_count": null,
      "metadata": {
        "id": "LTrsVC2qlCig"
      },
      "outputs": [],
      "source": [
        "# here let s do some functions that we can re-use also for other assignment\n",
        "def load_the_data_and_the_labels(data_set_path: str, target_size: tuple or None = None):\n",
        "    try:\n",
        "        dataset, labels, name_of_the_labels = list(), list(), list()\n",
        "        # let s loop here and we try to discover how many class we have\n",
        "        for class_number, class_name in enumerate(os.listdir(data_set_path)):\n",
        "            full_path_the_data = os.path.join(data_set_path, class_name)\n",
        "            print(f\"[WALK] I am walking into {full_path_the_data}\")\n",
        "\n",
        "            # add the list to nam _list\n",
        "            name_of_the_labels.append(class_name)\n",
        "\n",
        "            for single_image in os.listdir(f\"{full_path_the_data}\"):\n",
        "                full_path_to_image = os.path.join(*[full_path_the_data, single_image])\n",
        "\n",
        "                # add the class number\n",
        "                labels.append(class_number)\n",
        "\n",
        "                if target_size is None:\n",
        "                    # let s load the image\n",
        "                    image = tf.keras.utils.load_img(full_path_to_image)\n",
        "                else:\n",
        "                    image = tf.keras.utils.load_img(full_path_to_image, target_size=target_size)\n",
        "\n",
        "                # transform PIL object in image\n",
        "                image = tf.keras.utils.img_to_array(image)\n",
        "\n",
        "                # add the image to the ds list\n",
        "                dataset.append(image)\n",
        "\n",
        "        return np.array(dataset, dtype='uint8'), np.array(labels, dtype='int'), name_of_the_labels\n",
        "    except Exception as ex:\n",
        "        print(f\"[EXCEPTION] load the data and the labels throws exceptions {ex}\")"
      ]
    },
    {
      "cell_type": "markdown",
      "metadata": {
        "id": "JkOVyjNUlCig"
      },
      "source": [
        "### load train set"
      ]
    },
    {
      "cell_type": "code",
      "execution_count": null,
      "metadata": {
        "id": "YyCsY2knlCig"
      },
      "outputs": [],
      "source": [
        "#train_data_path = os.path.join(path_of_download, \"train\")\n",
        "#train_dataset, train_labels, train_class_names = load_the_data_and_the_labels(train_data_path, (224, 224, 3))"
      ]
    },
    {
      "cell_type": "code",
      "source": [
        "train_data_path = '/content/train'\n",
        "train_dataset = tf.keras.preprocessing.image_dataset_from_directory(train_data_path, image_size=(224, 224), batch_size=32, label_mode='binary')\n",
        "print(f\"Train dataset: {train_dataset}\")\n",
        "train_images = []\n",
        "train_labels = []\n",
        "train_class_names = train_dataset.class_names\n",
        "for images, labels in train_dataset:\n",
        "    train_images.append(images.numpy())\n",
        "    train_labels.append(labels.numpy())\n",
        "\n",
        "train_images = np.concatenate(train_images, axis=0)\n",
        "train_labels = np.concatenate(train_labels, axis=0)"
      ],
      "metadata": {
        "id": "KCdOT8ZMnRFc"
      },
      "execution_count": null,
      "outputs": []
    },
    {
      "cell_type": "markdown",
      "metadata": {
        "id": "KMy1ehjxlCih"
      },
      "source": [
        "### load test set"
      ]
    },
    {
      "cell_type": "code",
      "execution_count": null,
      "metadata": {
        "id": "Jqe31-u8lCih"
      },
      "outputs": [],
      "source": [
        "#test_data_path = os.path.join(path_of_download, \"test\")\n",
        "#test_data_path ='/content/muffin-vs-chihuahua-image-classification/test'\n",
        "#test_dataset, test_labels, test_class_names = load_the_data_and_the_labels(test_data_path, (224, 224, 3))"
      ]
    },
    {
      "cell_type": "code",
      "source": [
        "test_data_path = '/content/test'\n",
        "# Load the test dataset\n",
        "test_dataset = tf.keras.preprocessing.image_dataset_from_directory(test_data_path, image_size=(224, 224), batch_size=32, label_mode='binary')\n",
        "print(f\"Test dataset: {test_dataset}\")\n",
        "test_images = []\n",
        "test_labels = []\n",
        "test_class_names = test_dataset.class_names\n",
        "for images, labels in test_dataset:\n",
        "    test_images.append(images.numpy())\n",
        "    test_labels.append(labels.numpy())\n",
        "\n",
        "test_images = np.concatenate(test_images, axis=0)\n",
        "test_labels = np.concatenate(test_labels, axis=0)"
      ],
      "metadata": {
        "id": "tYRP50UunruD"
      },
      "execution_count": null,
      "outputs": []
    },
    {
      "cell_type": "markdown",
      "metadata": {
        "id": "J14tJP9olCih"
      },
      "source": [
        "### normalize the data"
      ]
    },
    {
      "cell_type": "code",
      "execution_count": null,
      "metadata": {
        "id": "OHi-g8-AlCih"
      },
      "outputs": [],
      "source": [
        "#train_dataset = train_dataset / 255.0\n",
        "#test_dataset = test_dataset / 255.0\n",
        "train_images = train_images / 255.0\n",
        "test_images = test_images / 255.0"
      ]
    },
    {
      "cell_type": "code",
      "execution_count": null,
      "metadata": {
        "id": "DCujg_8YlCih"
      },
      "outputs": [],
      "source": [
        "X_train, X_test, y_train, y_test = train_test_split(train_images, train_labels, test_size=0.3)"
      ]
    },
    {
      "cell_type": "code",
      "execution_count": null,
      "metadata": {
        "id": "vB8Ob3ZClCih"
      },
      "outputs": [],
      "source": [
        "print(f\"Training data shape: {X_train.shape}\")\n",
        "print(f\"Test data shape: {X_test.shape}\")"
      ]
    },
    {
      "cell_type": "markdown",
      "metadata": {
        "id": "wRvzbs7wlCii"
      },
      "source": [
        "### create a cnn with the following characteristics:\n",
        "a.\tInput layer\n",
        "b.\tData augmentation, with random flip and random rotation.\n",
        "c.\tTwo hidden layers each composed with the following characteristics: 16 conv2d units, max pooling 2d and batch normalization, the second one should have 24 conv2d units max pooling 2d and batch normalization.\n",
        "d.\tAfter this, add a flatten layer and a dense layer with 8 units\n",
        "e.\tAdd the final classifier (a  dense layer) with the correct number of output and activation\n"
      ]
    },
    {
      "cell_type": "code",
      "execution_count": null,
      "metadata": {
        "id": "Wul533gylCii"
      },
      "outputs": [],
      "source": [
        "#Model\n",
        "cnn_model = models.Sequential()\n",
        "\n",
        "#a\n",
        "cnn_model.add(layers.InputLayer(shape=(224, 224, 3)))\n",
        "\n",
        "#b\n",
        "cnn_model.add(layers.RandomFlip(\"horizontal\"))\n",
        "cnn_model.add(layers.RandomRotation(0.2))\n",
        "\n",
        "#c\n",
        "cnn_model.add(layers.Conv2D(16, (3, 3), activation='relu', padding='same'))\n",
        "cnn_model.add(layers.MaxPooling2D((2, 2)))\n",
        "cnn_model.add(layers.BatchNormalization())\n",
        "\n",
        "cnn_model.add(layers.Conv2D(24, (3, 3), activation='relu', padding='same'))\n",
        "cnn_model.add(layers.MaxPooling2D((2, 2)))\n",
        "cnn_model.add(layers.BatchNormalization())\n",
        "\n",
        "#d\n",
        "cnn_model.add(layers.Flatten())\n",
        "cnn_model.add(layers.Dense(8, activation='relu'))\n",
        "\n",
        "#e\n",
        "cnn_model.add(layers.Dense(1, activation='sigmoid'))"
      ]
    },
    {
      "cell_type": "markdown",
      "metadata": {
        "id": "vOWjPjw3lCii"
      },
      "source": [
        "### compile the model using Adam"
      ]
    },
    {
      "cell_type": "code",
      "execution_count": null,
      "metadata": {
        "id": "hzVOoNWGlCij"
      },
      "outputs": [],
      "source": [
        "cnn_model.compile(optimizer='adam', loss='binary_crossentropy', metrics=['accuracy'])"
      ]
    },
    {
      "cell_type": "markdown",
      "metadata": {
        "id": "AA38zW3tlCij"
      },
      "source": [
        "### Train the model with batch size 64 and epochs of 30"
      ]
    },
    {
      "cell_type": "code",
      "execution_count": null,
      "metadata": {
        "id": "rygLop-ElCij"
      },
      "outputs": [],
      "source": [
        "cnn_model.fit(X_train, y_train, batch_size=64, epochs=30, validation_data=(X_test, y_test))"
      ]
    },
    {
      "cell_type": "markdown",
      "metadata": {
        "id": "USMzi8TKlCij"
      },
      "source": [
        "### Evaluate the model and report the accuracy."
      ]
    },
    {
      "cell_type": "code",
      "execution_count": null,
      "metadata": {
        "id": "t2X6wdJRlCik"
      },
      "outputs": [],
      "source": [
        "#print('Accuracy', cnn_model.evaluate(test_dataset, test_labels)[1])\n",
        "# Evaluate the model on the test dataset\n",
        "test_dataset = tf.data.Dataset.from_tensor_slices((X_test, y_test))\n",
        "\n",
        "# Print the accuracy\n",
        "print(f\"Test Accuracy: {test_accuracy[1]:.4f}\")\n"
      ]
    },
    {
      "cell_type": "markdown",
      "metadata": {
        "id": "moolbWUelCik"
      },
      "source": [
        "#### Make prediction with the test set and use a threshold of 0.5 as boundaries decision between the classes."
      ]
    },
    {
      "cell_type": "code",
      "execution_count": null,
      "metadata": {
        "id": "hjacBwzclCik"
      },
      "outputs": [],
      "source": [
        "predicted_classes = (cnn_model.predict(test_dataset) > 0.5).astype(int)"
      ]
    },
    {
      "cell_type": "markdown",
      "metadata": {
        "id": "l0pfuh_tlCik"
      },
      "source": [
        "### plot confusion matrix and ROC curve"
      ]
    },
    {
      "cell_type": "code",
      "execution_count": null,
      "metadata": {
        "id": "_trAxOiPlCik"
      },
      "outputs": [],
      "source": [
        "ConfusionMatrixDisplay(confusion_matrix=confusion_matrix(test_labels, predicted_classes), display_labels=test_class_names).plot()"
      ]
    },
    {
      "cell_type": "code",
      "execution_count": null,
      "metadata": {
        "id": "AGiSUzrnlCil"
      },
      "outputs": [],
      "source": [
        "fpr, tpr, _ = roc_curve(test_labels, predicted_classes)\n",
        "plt.plot(fpr, tpr)\n",
        "print('ROC:', auc(fpr, tpr))"
      ]
    },
    {
      "cell_type": "markdown",
      "metadata": {
        "id": "CuvpPKm6lCil"
      },
      "source": [
        "### Calcualte best tresthold"
      ]
    },
    {
      "cell_type": "code",
      "execution_count": null,
      "metadata": {
        "id": "vMBZ2DLklCil"
      },
      "outputs": [],
      "source": [
        "precision, recall, thresholds = precision_recall_curve(test_labels, cnn_model.predict(test_dataset))\n",
        "f1_scores = 2 * (precision * recall) / (precision + recall)\n",
        "best_threshold_idx = np.argmax(f1_scores)\n",
        "best_threshold = thresholds[best_threshold_idx]"
      ]
    },
    {
      "cell_type": "markdown",
      "metadata": {
        "id": "ypsbYwRWlCil"
      },
      "source": [
        "### Plot confusion matrix"
      ]
    },
    {
      "cell_type": "code",
      "execution_count": null,
      "metadata": {
        "id": "TjB-CW3NlCil"
      },
      "outputs": [],
      "source": [
        "best_predicted_classes = (cnn_model.predict(test_dataset) > best_threshold).astype(int)\n",
        "ConfusionMatrixDisplay(confusion_matrix=confusion_matrix(test_labels, best_predicted_classes)).plot()"
      ]
    },
    {
      "cell_type": "code",
      "execution_count": null,
      "metadata": {
        "id": "QKsrXPzrlCil"
      },
      "outputs": [],
      "source": []
    }
  ],
  "metadata": {
    "kernelspec": {
      "display_name": "Python 3",
      "name": "python3"
    },
    "language_info": {
      "codemirror_mode": {
        "name": "ipython",
        "version": 3
      },
      "file_extension": ".py",
      "mimetype": "text/x-python",
      "name": "python",
      "nbconvert_exporter": "python",
      "pygments_lexer": "ipython3",
      "version": "3.12.7"
    },
    "colab": {
      "provenance": [],
      "gpuType": "V28",
      "include_colab_link": true
    },
    "accelerator": "TPU"
  },
  "nbformat": 4,
  "nbformat_minor": 0
}