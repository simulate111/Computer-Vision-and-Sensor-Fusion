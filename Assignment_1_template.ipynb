{
  "cells": [
    {
      "cell_type": "markdown",
      "metadata": {
        "id": "view-in-github",
        "colab_type": "text"
      },
      "source": [
        "<a href=\"https://colab.research.google.com/github/simulate111/Computer-Vision-and-Sensor-Fusion/blob/main/Assignment_1_template.ipynb\" target=\"_parent\"><img src=\"https://colab.research.google.com/assets/colab-badge.svg\" alt=\"Open In Colab\"/></a>"
      ]
    },
    {
      "cell_type": "code",
      "execution_count": null,
      "metadata": {
        "id": "XseuZYr-lCia"
      },
      "outputs": [],
      "source": [
        "import tensorflow as tf\n",
        "import random\n",
        "import os\n",
        "import numpy as np\n",
        "from sklearn.metrics import roc_curve, auc, precision_recall_curve, average_precision_score, confusion_matrix, ConfusionMatrixDisplay\n",
        "import pandas as pd\n",
        "import matplotlib.pyplot as plt\n",
        "from sklearn.model_selection import train_test_split\n",
        "from tensorflow.keras import layers, models"
      ]
    },
    {
      "cell_type": "markdown",
      "metadata": {
        "id": "eypuYoyKlCid"
      },
      "source": [
        "### Path system"
      ]
    },
    {
      "cell_type": "code",
      "execution_count": null,
      "metadata": {
        "id": "4puaF1wblCie",
        "outputId": "74397212-ab77-41a6-ba95-601e54f7d412"
      },
      "outputs": [
        {
          "name": "stdout",
          "output_type": "stream",
          "text": [
            "[DIR] The directory of the current dataset is C:\\Users\\moakht\\OneDrive - O365 Turun yliopisto\\Desktop\\Courses\\UTU\\Computer Vision and Sensor Fusion\\Datasets\\cookies_vs_chihuahua\n"
          ]
        }
      ],
      "source": [
        "# you need the current working directory NB: works both windows and linux\n",
        "current_working_directory = os.getcwd()\n",
        "current_working_directory = os.path.dirname(current_working_directory)\n",
        "\n",
        "# get the directory where I want to download the dataset\n",
        "path_of_download = os.path.join(*['..', current_working_directory, 'Datasets', 'cookies_vs_chihuahua'])\n",
        "print(f\"[DIR] The directory of the current dataset is {path_of_download}\")"
      ]
    },
    {
      "cell_type": "markdown",
      "metadata": {
        "id": "PKLVfyIClCif"
      },
      "source": [
        "### Dataset function"
      ]
    },
    {
      "cell_type": "code",
      "execution_count": null,
      "metadata": {
        "id": "LTrsVC2qlCig"
      },
      "outputs": [],
      "source": [
        "# here let s do some functions that we can re-use also for other assignment\n",
        "def load_the_data_and_the_labels(data_set_path: str, target_size: tuple or None = None):\n",
        "    try:\n",
        "        dataset, labels, name_of_the_labels = list(), list(), list()\n",
        "        # let s loop here and we try to discover how many class we have\n",
        "        for class_number, class_name in enumerate(os.listdir(data_set_path)):\n",
        "            full_path_the_data = os.path.join(data_set_path, class_name)\n",
        "            print(f\"[WALK] I am walking into {full_path_the_data}\")\n",
        "\n",
        "            # add the list to nam _list\n",
        "            name_of_the_labels.append(class_name)\n",
        "\n",
        "            for single_image in os.listdir(f\"{full_path_the_data}\"):\n",
        "                full_path_to_image = os.path.join(*[full_path_the_data, single_image])\n",
        "\n",
        "                # add the class number\n",
        "                labels.append(class_number)\n",
        "\n",
        "                if target_size is None:\n",
        "                    # let s load the image\n",
        "                    image = tf.keras.utils.load_img(full_path_to_image)\n",
        "                else:\n",
        "                    image = tf.keras.utils.load_img(full_path_to_image, target_size=target_size)\n",
        "\n",
        "                # transform PIL object in image\n",
        "                image = tf.keras.utils.img_to_array(image)\n",
        "\n",
        "                # add the image to the ds list\n",
        "                dataset.append(image)\n",
        "\n",
        "        return np.array(dataset, dtype='uint8'), np.array(labels, dtype='int'), name_of_the_labels\n",
        "    except Exception as ex:\n",
        "        print(f\"[EXCEPTION] load the data and the labels throws exceptions {ex}\")"
      ]
    },
    {
      "cell_type": "markdown",
      "metadata": {
        "id": "JkOVyjNUlCig"
      },
      "source": [
        "### load train set"
      ]
    },
    {
      "cell_type": "code",
      "execution_count": null,
      "metadata": {
        "id": "YyCsY2knlCig",
        "outputId": "815e43c5-55d0-4379-b342-7a8f4403b85c"
      },
      "outputs": [
        {
          "name": "stdout",
          "output_type": "stream",
          "text": [
            "[WALK] I am walking into C:\\Users\\moakht\\OneDrive - O365 Turun yliopisto\\Desktop\\Courses\\UTU\\Computer Vision and Sensor Fusion\\Datasets\\cookies_vs_chihuahua\\train\\chihuahua\n",
            "[WALK] I am walking into C:\\Users\\moakht\\OneDrive - O365 Turun yliopisto\\Desktop\\Courses\\UTU\\Computer Vision and Sensor Fusion\\Datasets\\cookies_vs_chihuahua\\train\\muffin\n"
          ]
        }
      ],
      "source": [
        "train_data_path = os.path.join(path_of_download, \"train\")\n",
        "train_dataset, train_labels, train_class_names = load_the_data_and_the_labels(train_data_path, (224, 224, 3))"
      ]
    },
    {
      "cell_type": "markdown",
      "metadata": {
        "id": "KMy1ehjxlCih"
      },
      "source": [
        "### load test set"
      ]
    },
    {
      "cell_type": "code",
      "execution_count": null,
      "metadata": {
        "id": "Jqe31-u8lCih",
        "outputId": "50e6548f-b169-447d-b4ab-31305eb115f5"
      },
      "outputs": [
        {
          "name": "stdout",
          "output_type": "stream",
          "text": [
            "[WALK] I am walking into C:\\Users\\moakht\\OneDrive - O365 Turun yliopisto\\Desktop\\Courses\\UTU\\Computer Vision and Sensor Fusion\\Datasets\\cookies_vs_chihuahua\\test\\chihuahua\n",
            "[WALK] I am walking into C:\\Users\\moakht\\OneDrive - O365 Turun yliopisto\\Desktop\\Courses\\UTU\\Computer Vision and Sensor Fusion\\Datasets\\cookies_vs_chihuahua\\test\\muffin\n"
          ]
        }
      ],
      "source": [
        "test_data_path = os.path.join(path_of_download, \"test\")\n",
        "test_dataset, test_labels, test_class_names = load_the_data_and_the_labels(test_data_path, (224, 224, 3))"
      ]
    },
    {
      "cell_type": "markdown",
      "metadata": {
        "id": "J14tJP9olCih"
      },
      "source": [
        "### normalize the data"
      ]
    },
    {
      "cell_type": "code",
      "execution_count": null,
      "metadata": {
        "id": "OHi-g8-AlCih"
      },
      "outputs": [],
      "source": [
        "train_dataset = train_dataset / 255.0\n",
        "test_dataset = test_dataset / 255.0"
      ]
    },
    {
      "cell_type": "code",
      "execution_count": null,
      "metadata": {
        "id": "DCujg_8YlCih"
      },
      "outputs": [],
      "source": [
        "X_train, X_test, y_train, y_test = train_test_split(train_dataset, train_labels, test_size=0.3)"
      ]
    },
    {
      "cell_type": "code",
      "execution_count": null,
      "metadata": {
        "id": "vB8Ob3ZClCih",
        "outputId": "130eef94-5f59-418b-d6dc-53ba0248ad4f"
      },
      "outputs": [
        {
          "name": "stdout",
          "output_type": "stream",
          "text": [
            "Training data shape: (3313, 224, 224, 3)\n",
            "Test data shape: (1420, 224, 224, 3)\n"
          ]
        }
      ],
      "source": [
        "print(f\"Training data shape: {X_train.shape}\")\n",
        "print(f\"Test data shape: {X_test.shape}\")"
      ]
    },
    {
      "cell_type": "markdown",
      "metadata": {
        "id": "wRvzbs7wlCii"
      },
      "source": [
        "### create a cnn with the following characteristics:\n",
        "a.\tInput layer\n",
        "b.\tData augmentation, with random flip and random rotation.\n",
        "c.\tTwo hidden layers each composed with the following characteristics: 16 conv2d units, max pooling 2d and batch normalization, the second one should have 24 conv2d units max pooling 2d and batch normalization.\n",
        "d.\tAfter this, add a flatten layer and a dense layer with 8 units\n",
        "e.\tAdd the final classifier (a  dense layer) with the correct number of output and activation\n"
      ]
    },
    {
      "cell_type": "code",
      "execution_count": null,
      "metadata": {
        "id": "Wul533gylCii"
      },
      "outputs": [],
      "source": [
        "#Model\n",
        "cnn_model = models.Sequential()\n",
        "\n",
        "#a\n",
        "cnn_model.add(layers.InputLayer(shape=(224, 224, 3)))\n",
        "\n",
        "#b\n",
        "cnn_model.add(layers.RandomFlip(\"horizontal\"))\n",
        "cnn_model.add(layers.RandomRotation(0.2))\n",
        "\n",
        "#c\n",
        "cnn_model.add(layers.Conv2D(16, (3, 3), activation='relu', padding='same'))\n",
        "cnn_model.add(layers.MaxPooling2D((2, 2)))\n",
        "cnn_model.add(layers.BatchNormalization())\n",
        "\n",
        "cnn_model.add(layers.Conv2D(24, (3, 3), activation='relu', padding='same'))\n",
        "cnn_model.add(layers.MaxPooling2D((2, 2)))\n",
        "cnn_model.add(layers.BatchNormalization())\n",
        "\n",
        "#d\n",
        "cnn_model.add(layers.Flatten())\n",
        "cnn_model.add(layers.Dense(8, activation='relu'))\n",
        "\n",
        "#e\n",
        "cnn_model.add(layers.Dense(1, activation='sigmoid'))"
      ]
    },
    {
      "cell_type": "markdown",
      "metadata": {
        "id": "vOWjPjw3lCii"
      },
      "source": [
        "### compile the model using Adam"
      ]
    },
    {
      "cell_type": "code",
      "execution_count": null,
      "metadata": {
        "id": "hzVOoNWGlCij"
      },
      "outputs": [],
      "source": [
        "cnn_model.compile(optimizer='adam', loss='binary_crossentropy', metrics=['accuracy'])"
      ]
    },
    {
      "cell_type": "markdown",
      "metadata": {
        "id": "AA38zW3tlCij"
      },
      "source": [
        "### Train the model with batch size 64 and epochs of 30"
      ]
    },
    {
      "cell_type": "code",
      "execution_count": null,
      "metadata": {
        "id": "rygLop-ElCij",
        "outputId": "9e415c93-e8ca-4e3d-abfb-f8491e436471"
      },
      "outputs": [
        {
          "name": "stdout",
          "output_type": "stream",
          "text": [
            "Epoch 1/30\n",
            "\u001b[1m52/52\u001b[0m \u001b[32m━━━━━━━━━━━━━━━━━━━━\u001b[0m\u001b[37m\u001b[0m \u001b[1m28s\u001b[0m 425ms/step - accuracy: 0.6967 - loss: 0.7873 - val_accuracy: 0.5204 - val_loss: 2.8090\n",
            "Epoch 2/30\n",
            "\u001b[1m52/52\u001b[0m \u001b[32m━━━━━━━━━━━━━━━━━━━━\u001b[0m\u001b[37m\u001b[0m \u001b[1m20s\u001b[0m 381ms/step - accuracy: 0.8543 - loss: 0.3653 - val_accuracy: 0.5246 - val_loss: 3.7057\n",
            "Epoch 3/30\n",
            "\u001b[1m52/52\u001b[0m \u001b[32m━━━━━━━━━━━━━━━━━━━━\u001b[0m\u001b[37m\u001b[0m \u001b[1m20s\u001b[0m 378ms/step - accuracy: 0.8715 - loss: 0.3266 - val_accuracy: 0.5254 - val_loss: 6.2057\n",
            "Epoch 4/30\n",
            "\u001b[1m52/52\u001b[0m \u001b[32m━━━━━━━━━━━━━━━━━━━━\u001b[0m\u001b[37m\u001b[0m \u001b[1m20s\u001b[0m 393ms/step - accuracy: 0.8741 - loss: 0.3147 - val_accuracy: 0.5261 - val_loss: 4.8979\n",
            "Epoch 5/30\n",
            "\u001b[1m52/52\u001b[0m \u001b[32m━━━━━━━━━━━━━━━━━━━━\u001b[0m\u001b[37m\u001b[0m \u001b[1m21s\u001b[0m 401ms/step - accuracy: 0.8609 - loss: 0.3345 - val_accuracy: 0.5254 - val_loss: 6.7735\n",
            "Epoch 6/30\n",
            "\u001b[1m52/52\u001b[0m \u001b[32m━━━━━━━━━━━━━━━━━━━━\u001b[0m\u001b[37m\u001b[0m \u001b[1m24s\u001b[0m 459ms/step - accuracy: 0.8987 - loss: 0.2485 - val_accuracy: 0.5359 - val_loss: 3.5104\n",
            "Epoch 7/30\n",
            "\u001b[1m52/52\u001b[0m \u001b[32m━━━━━━━━━━━━━━━━━━━━\u001b[0m\u001b[37m\u001b[0m \u001b[1m28s\u001b[0m 547ms/step - accuracy: 0.8963 - loss: 0.2605 - val_accuracy: 0.5535 - val_loss: 3.4175\n",
            "Epoch 8/30\n",
            "\u001b[1m52/52\u001b[0m \u001b[32m━━━━━━━━━━━━━━━━━━━━\u001b[0m\u001b[37m\u001b[0m \u001b[1m27s\u001b[0m 515ms/step - accuracy: 0.8944 - loss: 0.2451 - val_accuracy: 0.6894 - val_loss: 1.9405\n",
            "Epoch 9/30\n",
            "\u001b[1m52/52\u001b[0m \u001b[32m━━━━━━━━━━━━━━━━━━━━\u001b[0m\u001b[37m\u001b[0m \u001b[1m24s\u001b[0m 465ms/step - accuracy: 0.8904 - loss: 0.2477 - val_accuracy: 0.6042 - val_loss: 1.1950\n",
            "Epoch 10/30\n",
            "\u001b[1m52/52\u001b[0m \u001b[32m━━━━━━━━━━━━━━━━━━━━\u001b[0m\u001b[37m\u001b[0m \u001b[1m22s\u001b[0m 414ms/step - accuracy: 0.8961 - loss: 0.2702 - val_accuracy: 0.8359 - val_loss: 0.4153\n",
            "Epoch 11/30\n",
            "\u001b[1m52/52\u001b[0m \u001b[32m━━━━━━━━━━━━━━━━━━━━\u001b[0m\u001b[37m\u001b[0m \u001b[1m26s\u001b[0m 497ms/step - accuracy: 0.9000 - loss: 0.2372 - val_accuracy: 0.7739 - val_loss: 0.5267\n",
            "Epoch 12/30\n",
            "\u001b[1m52/52\u001b[0m \u001b[32m━━━━━━━━━━━━━━━━━━━━\u001b[0m\u001b[37m\u001b[0m \u001b[1m30s\u001b[0m 575ms/step - accuracy: 0.9045 - loss: 0.2325 - val_accuracy: 0.8676 - val_loss: 0.3288\n",
            "Epoch 13/30\n",
            "\u001b[1m52/52\u001b[0m \u001b[32m━━━━━━━━━━━━━━━━━━━━\u001b[0m\u001b[37m\u001b[0m \u001b[1m27s\u001b[0m 511ms/step - accuracy: 0.8919 - loss: 0.2666 - val_accuracy: 0.8739 - val_loss: 0.3148\n",
            "Epoch 14/30\n",
            "\u001b[1m52/52\u001b[0m \u001b[32m━━━━━━━━━━━━━━━━━━━━\u001b[0m\u001b[37m\u001b[0m \u001b[1m25s\u001b[0m 473ms/step - accuracy: 0.9045 - loss: 0.2255 - val_accuracy: 0.8493 - val_loss: 0.3637\n",
            "Epoch 15/30\n",
            "\u001b[1m52/52\u001b[0m \u001b[32m━━━━━━━━━━━━━━━━━━━━\u001b[0m\u001b[37m\u001b[0m \u001b[1m25s\u001b[0m 473ms/step - accuracy: 0.9016 - loss: 0.2463 - val_accuracy: 0.8711 - val_loss: 0.3043\n",
            "Epoch 16/30\n",
            "\u001b[1m52/52\u001b[0m \u001b[32m━━━━━━━━━━━━━━━━━━━━\u001b[0m\u001b[37m\u001b[0m \u001b[1m25s\u001b[0m 484ms/step - accuracy: 0.9103 - loss: 0.2256 - val_accuracy: 0.8732 - val_loss: 0.2960\n",
            "Epoch 17/30\n",
            "\u001b[1m52/52\u001b[0m \u001b[32m━━━━━━━━━━━━━━━━━━━━\u001b[0m\u001b[37m\u001b[0m \u001b[1m28s\u001b[0m 543ms/step - accuracy: 0.9121 - loss: 0.2210 - val_accuracy: 0.8613 - val_loss: 0.3291\n",
            "Epoch 18/30\n",
            "\u001b[1m52/52\u001b[0m \u001b[32m━━━━━━━━━━━━━━━━━━━━\u001b[0m\u001b[37m\u001b[0m \u001b[1m23s\u001b[0m 445ms/step - accuracy: 0.9147 - loss: 0.2115 - val_accuracy: 0.8437 - val_loss: 0.3759\n",
            "Epoch 19/30\n",
            "\u001b[1m52/52\u001b[0m \u001b[32m━━━━━━━━━━━━━━━━━━━━\u001b[0m\u001b[37m\u001b[0m \u001b[1m23s\u001b[0m 436ms/step - accuracy: 0.9090 - loss: 0.2167 - val_accuracy: 0.8838 - val_loss: 0.3000\n",
            "Epoch 20/30\n",
            "\u001b[1m52/52\u001b[0m \u001b[32m━━━━━━━━━━━━━━━━━━━━\u001b[0m\u001b[37m\u001b[0m \u001b[1m23s\u001b[0m 449ms/step - accuracy: 0.9329 - loss: 0.1785 - val_accuracy: 0.8458 - val_loss: 0.3414\n",
            "Epoch 21/30\n",
            "\u001b[1m52/52\u001b[0m \u001b[32m━━━━━━━━━━━━━━━━━━━━\u001b[0m\u001b[37m\u001b[0m \u001b[1m25s\u001b[0m 472ms/step - accuracy: 0.9270 - loss: 0.1947 - val_accuracy: 0.8852 - val_loss: 0.2766\n",
            "Epoch 22/30\n",
            "\u001b[1m52/52\u001b[0m \u001b[32m━━━━━━━━━━━━━━━━━━━━\u001b[0m\u001b[37m\u001b[0m \u001b[1m25s\u001b[0m 487ms/step - accuracy: 0.9252 - loss: 0.1992 - val_accuracy: 0.8268 - val_loss: 0.4374\n",
            "Epoch 23/30\n",
            "\u001b[1m52/52\u001b[0m \u001b[32m━━━━━━━━━━━━━━━━━━━━\u001b[0m\u001b[37m\u001b[0m \u001b[1m25s\u001b[0m 478ms/step - accuracy: 0.9120 - loss: 0.1944 - val_accuracy: 0.8768 - val_loss: 0.2964\n",
            "Epoch 24/30\n",
            "\u001b[1m52/52\u001b[0m \u001b[32m━━━━━━━━━━━━━━━━━━━━\u001b[0m\u001b[37m\u001b[0m \u001b[1m22s\u001b[0m 428ms/step - accuracy: 0.9238 - loss: 0.1887 - val_accuracy: 0.8725 - val_loss: 0.3174\n",
            "Epoch 25/30\n",
            "\u001b[1m52/52\u001b[0m \u001b[32m━━━━━━━━━━━━━━━━━━━━\u001b[0m\u001b[37m\u001b[0m \u001b[1m23s\u001b[0m 440ms/step - accuracy: 0.9177 - loss: 0.1948 - val_accuracy: 0.8901 - val_loss: 0.2857\n",
            "Epoch 26/30\n",
            "\u001b[1m52/52\u001b[0m \u001b[32m━━━━━━━━━━━━━━━━━━━━\u001b[0m\u001b[37m\u001b[0m \u001b[1m26s\u001b[0m 508ms/step - accuracy: 0.9321 - loss: 0.1755 - val_accuracy: 0.7056 - val_loss: 0.9155\n",
            "Epoch 27/30\n",
            "\u001b[1m52/52\u001b[0m \u001b[32m━━━━━━━━━━━━━━━━━━━━\u001b[0m\u001b[37m\u001b[0m \u001b[1m24s\u001b[0m 458ms/step - accuracy: 0.9215 - loss: 0.2091 - val_accuracy: 0.8620 - val_loss: 0.3441\n",
            "Epoch 28/30\n",
            "\u001b[1m52/52\u001b[0m \u001b[32m━━━━━━━━━━━━━━━━━━━━\u001b[0m\u001b[37m\u001b[0m \u001b[1m39s\u001b[0m 413ms/step - accuracy: 0.9254 - loss: 0.1834 - val_accuracy: 0.8915 - val_loss: 0.2726\n",
            "Epoch 29/30\n",
            "\u001b[1m52/52\u001b[0m \u001b[32m━━━━━━━━━━━━━━━━━━━━\u001b[0m\u001b[37m\u001b[0m \u001b[1m24s\u001b[0m 451ms/step - accuracy: 0.9329 - loss: 0.1809 - val_accuracy: 0.8500 - val_loss: 0.3863\n",
            "Epoch 30/30\n",
            "\u001b[1m52/52\u001b[0m \u001b[32m━━━━━━━━━━━━━━━━━━━━\u001b[0m\u001b[37m\u001b[0m \u001b[1m26s\u001b[0m 490ms/step - accuracy: 0.9257 - loss: 0.1830 - val_accuracy: 0.8585 - val_loss: 0.4357\n"
          ]
        },
        {
          "data": {
            "text/plain": [
              "<keras.src.callbacks.history.History at 0x227a8b3a660>"
            ]
          },
          "execution_count": 11,
          "metadata": {},
          "output_type": "execute_result"
        }
      ],
      "source": [
        "cnn_model.fit(X_train, y_train, batch_size=64, epochs=30, validation_data=(X_test, y_test))"
      ]
    },
    {
      "cell_type": "markdown",
      "metadata": {
        "id": "USMzi8TKlCij"
      },
      "source": [
        "### Evaluate the model and report the accuracy."
      ]
    },
    {
      "cell_type": "code",
      "execution_count": null,
      "metadata": {
        "id": "t2X6wdJRlCik",
        "outputId": "77486e3e-90ee-4da1-9f2a-0a0e4846ec01"
      },
      "outputs": [
        {
          "name": "stdout",
          "output_type": "stream",
          "text": [
            "\u001b[1m37/37\u001b[0m \u001b[32m━━━━━━━━━━━━━━━━━━━━\u001b[0m\u001b[37m\u001b[0m \u001b[1m1s\u001b[0m 36ms/step - accuracy: 0.9135 - loss: 0.2218\n",
            "Accuracy 0.8521959185600281\n"
          ]
        }
      ],
      "source": [
        "print('Accuracy', cnn_model.evaluate(test_dataset, test_labels)[1])"
      ]
    },
    {
      "cell_type": "markdown",
      "metadata": {
        "id": "moolbWUelCik"
      },
      "source": [
        "#### Make prediction with the test set and use a threshold of 0.5 as boundaries decision between the classes."
      ]
    },
    {
      "cell_type": "code",
      "execution_count": null,
      "metadata": {
        "id": "hjacBwzclCik",
        "outputId": "fd38fbff-a848-42f8-ad5e-e8a17e9966f8"
      },
      "outputs": [
        {
          "name": "stdout",
          "output_type": "stream",
          "text": [
            "\u001b[1m37/37\u001b[0m \u001b[32m━━━━━━━━━━━━━━━━━━━━\u001b[0m\u001b[37m\u001b[0m \u001b[1m1s\u001b[0m 35ms/step\n"
          ]
        }
      ],
      "source": [
        "predicted_classes = (cnn_model.predict(test_dataset) > 0.5).astype(int)"
      ]
    },
    {
      "cell_type": "markdown",
      "metadata": {
        "id": "l0pfuh_tlCik"
      },
      "source": [
        "### plot confusion matrix and ROC curve"
      ]
    },
    {
      "cell_type": "code",
      "execution_count": null,
      "metadata": {
        "id": "_trAxOiPlCik",
        "outputId": "d05457df-8b2b-4cb3-f528-a393c7d81fe7"
      },
      "outputs": [
        {
          "data": {
            "text/plain": [
              "<sklearn.metrics._plot.confusion_matrix.ConfusionMatrixDisplay at 0x22794756990>"
            ]
          },
          "execution_count": 14,
          "metadata": {},
          "output_type": "execute_result"
        },
        {
          "data": {
            "image/png": "[encoded data removed]",
            "text/plain": [
              "<Figure size 640x480 with 2 Axes>"
            ]
          },
          "metadata": {},
          "output_type": "display_data"
        }
      ],
      "source": [
        "ConfusionMatrixDisplay(confusion_matrix=confusion_matrix(test_labels, predicted_classes), display_labels=test_class_names).plot()"
      ]
    },
    {
      "cell_type": "code",
      "execution_count": null,
      "metadata": {
        "id": "AGiSUzrnlCil",
        "outputId": "2c7d9060-01e6-4b1e-ca17-2a10f2799e66"
      },
      "outputs": [
        {
          "name": "stdout",
          "output_type": "stream",
          "text": [
            "ROC: 0.8446691176470589\n"
          ]
        },
        {
          "data": {
            "image/png": "[encoded data removed]",
            "text/plain": [
              "<Figure size 640x480 with 1 Axes>"
            ]
          },
          "metadata": {},
          "output_type": "display_data"
        }
      ],
      "source": [
        "fpr, tpr, _ = roc_curve(test_labels, predicted_classes)\n",
        "plt.plot(fpr, tpr)\n",
        "print('ROC:', auc(fpr, tpr))"
      ]
    },
    {
      "cell_type": "markdown",
      "metadata": {
        "id": "CuvpPKm6lCil"
      },
      "source": [
        "### Calcualte best tresthold"
      ]
    },
    {
      "cell_type": "code",
      "execution_count": null,
      "metadata": {
        "id": "vMBZ2DLklCil",
        "outputId": "ad6e4414-e850-4f2d-ec25-456730d121d5"
      },
      "outputs": [
        {
          "name": "stdout",
          "output_type": "stream",
          "text": [
            "\u001b[1m37/37\u001b[0m \u001b[32m━━━━━━━━━━━━━━━━━━━━\u001b[0m\u001b[37m\u001b[0m \u001b[1m1s\u001b[0m 33ms/step\n"
          ]
        }
      ],
      "source": [
        "precision, recall, thresholds = precision_recall_curve(test_labels, cnn_model.predict(test_dataset))\n",
        "f1_scores = 2 * (precision * recall) / (precision + recall)\n",
        "best_threshold_idx = np.argmax(f1_scores)\n",
        "best_threshold = thresholds[best_threshold_idx]"
      ]
    },
    {
      "cell_type": "markdown",
      "metadata": {
        "id": "ypsbYwRWlCil"
      },
      "source": [
        "### Plot confusion matrix"
      ]
    },
    {
      "cell_type": "code",
      "execution_count": null,
      "metadata": {
        "id": "TjB-CW3NlCil",
        "outputId": "d8bd3b73-0041-4a6e-ca03-2b978fedc60a"
      },
      "outputs": [
        {
          "name": "stdout",
          "output_type": "stream",
          "text": [
            "\u001b[1m37/37\u001b[0m \u001b[32m━━━━━━━━━━━━━━━━━━━━\u001b[0m\u001b[37m\u001b[0m \u001b[1m1s\u001b[0m 33ms/step\n"
          ]
        },
        {
          "data": {
            "text/plain": [
              "<sklearn.metrics._plot.confusion_matrix.ConfusionMatrixDisplay at 0x227a7f8cbc0>"
            ]
          },
          "execution_count": 18,
          "metadata": {},
          "output_type": "execute_result"
        },
        {
          "data": {
            "image/png": "[encoded data removed]",
            "text/plain": [
              "<Figure size 640x480 with 2 Axes>"
            ]
          },
          "metadata": {},
          "output_type": "display_data"
        }
      ],
      "source": [
        "best_predicted_classes = (cnn_model.predict(test_dataset) > best_threshold).astype(int)\n",
        "ConfusionMatrixDisplay(confusion_matrix=confusion_matrix(test_labels, best_predicted_classes)).plot()"
      ]
    },
    {
      "cell_type": "code",
      "execution_count": null,
      "metadata": {
        "id": "QKsrXPzrlCil"
      },
      "outputs": [],
      "source": []
    }
  ],
  "metadata": {
    "kernelspec": {
      "display_name": "Python 3 (ipykernel)",
      "language": "python",
      "name": "python3"
    },
    "language_info": {
      "codemirror_mode": {
        "name": "ipython",
        "version": 3
      },
      "file_extension": ".py",
      "mimetype": "text/x-python",
      "name": "python",
      "nbconvert_exporter": "python",
      "pygments_lexer": "ipython3",
      "version": "3.12.7"
    },
    "colab": {
      "provenance": [],
      "include_colab_link": true
    }
  },
  "nbformat": 4,
  "nbformat_minor": 0
}